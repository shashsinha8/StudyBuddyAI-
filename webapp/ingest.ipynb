{
 "cells": [
  {
   "cell_type": "code",
   "execution_count": 3,
   "metadata": {},
   "outputs": [
    {
     "name": "stdout",
     "output_type": "stream",
     "text": [
      "Note: you may need to restart the kernel to use updated packages.\n"
     ]
    }
   ],
   "source": [
    "%pip install langchain\n",
    "%pip install pypdf\n"
   ]
  },
  {
   "cell_type": "code",
   "execution_count": 4,
   "metadata": {},
   "outputs": [],
   "source": [
    "# Load all the pages from the file into a variable using PyPDFLoader\n",
    "\n",
    "from langchain.document_loaders import PyPDFLoader\n",
    "\n",
    "loader = PyPDFLoader(\n",
    "    \"./documents/Computer Systems A Programmer’s Perspective Third Edition by Randal E. Bryant, David R. O’Hallaron.pdf\"\n",
    ")\n",
    "raw_pages = loader.load()"
   ]
  },
  {
   "cell_type": "code",
   "execution_count": 5,
   "metadata": {},
   "outputs": [
    {
     "name": "stdout",
     "output_type": "stream",
     "text": [
      "1122\n"
     ]
    },
    {
     "data": {
      "text/plain": [
       "{'source': './documents/Computer Systems A Programmer’s Perspective Third Edition by Randal E. Bryant, David R. O’Hallaron.pdf',\n",
       " 'page': 0}"
      ]
     },
     "execution_count": 5,
     "metadata": {},
     "output_type": "execute_result"
    }
   ],
   "source": [
    "#raw_pages stores all the pages in array form. Each index also stores the metadata\n",
    "\n",
    "print(len(raw_pages))\n",
    "raw_page = raw_pages[0]\n",
    "# print(page.page_content[:300])\n",
    "raw_page.metadata"
   ]
  },
  {
   "cell_type": "code",
   "execution_count": 6,
   "metadata": {},
   "outputs": [],
   "source": [
    "# DOCUMENT SPLITTING\n",
    "\n",
    "\n",
    "from langchain.text_splitter import (\n",
    "    RecursiveCharacterTextSplitter,\n",
    "    CharacterTextSplitter,\n",
    ")\n",
    "\n",
    "chunk_size = 1000\n",
    "chunk_overlap = 200\n",
    "r_splitter = RecursiveCharacterTextSplitter(\n",
    "    chunk_size=chunk_size, chunk_overlap=chunk_overlap\n",
    ")"
   ]
  },
  {
   "cell_type": "code",
   "execution_count": 7,
   "metadata": {},
   "outputs": [
    {
     "name": "stdout",
     "output_type": "stream",
     "text": [
      "page_content='Contents 17\\n11\\nNetwork Programming 953\\n11.1 The Client-Server Programming Model 954\\n11.2 Networks 955\\n11.3 The Global IP Internet 960\\n11.3.1 IP Addresses 96111.3.2 Internet Domain Names 96311.3.3 Internet Connections 965\\n11.4 The Sockets Interface 96811.4.1 Socket Address Structures 96911.4.2 The\\nsocket Function 970\\n11.4.3 The connect Function 970\\n11.4.4 The bind Function 971\\n11.4.5 The listen Function 971\\n11.4.6 The accept Function 972\\n11.4.7 Host and Service Conversion 97311.4.8 Helper Functions for the Sockets Interface 97811.4.9 Example Echo Client and Server 980\\n11.5 Web Servers 98411.5.1 Web Basics 98411.5.2 Web Content 98511.5.3 HTTP Transactions 98611.5.4 Serving Dynamic Content 989\\n11.6 Putting It Together: The Tiny Web Server 992\\n11.7 Summary 1000\\nBibliographic Notes 1001Homework Problems 1001Solutions to Practice Problems 1002\\n12\\nConcurrent Programming 1007\\n12.1 Concurrent Programming with Processes 1009' metadata={'source': './documents/Computer Systems A Programmer’s Perspective Third Edition by Randal E. Bryant, David R. O’Hallaron.pdf', 'page': 17}\n",
      "page_content='11.7 Summary 1000\\nBibliographic Notes 1001Homework Problems 1001Solutions to Practice Problems 1002\\n12\\nConcurrent Programming 1007\\n12.1 Concurrent Programming with Processes 1009\\n12.1.1 A Concurrent Server Based on Processes 101012.1.2 Pros and Cons of Processes 1011\\n12.2 Concurrent Programming with I/O Multiplexing 101312.2.1 A Concurrent Event-Driven Server Based on I/O\\nMultiplexing 1016\\n12.2.2 Pros and Cons of I/O Multiplexing 1021\\n12.3 Concurrent Programming with Threads 102112.3.1 Thread Execution Model 1022' metadata={'source': './documents/Computer Systems A Programmer’s Perspective Third Edition by Randal E. Bryant, David R. O’Hallaron.pdf', 'page': 17}\n",
      "page_content='18 Contents\\n12.3.2 Posix Threads 1023\\n12.3.3 Creating Threads 102412.3.4 Terminating Threads 102412.3.5 Reaping Terminated Threads 102512.3.6 Detaching Threads 102512.3.7 Initializing Threads 102612.3.8 A Concurrent Server Based on Threads 1027\\n12.4 Shared Variables in Threaded Programs 102812.4.1 Threads Memory Model 102912.4.2 Mapping Variables to Memory 103012.4.3 Shared Variables 1031\\n12.5 Synchronizing Threads with Semaphores 103112.5.1 Progress Graphs 103512.5.2 Semaphores 103712.5.3 Using Semaphores for Mutual Exclusion 103812.5.4 Using Semaphores to Schedule Shared Resources 104012.5.5 Putting It Together: A Concurrent Server Based on\\nPrethreading 1044\\n12.6 Using Threads for Parallelism 1049\\n12.7 Other Concurrency Issues 105612.7.1 Thread Safety 105612.7.2 Reentrancy 105912.7.3 Using Existing Library Functions in Threaded Programs 106012.7.4 Races 106112.7.5 Deadlocks 1063\\n12.8 Summary 1066Bibliographic Notes 1066Homework Problems 1067Solutions to Practice Problems 1072\\nA' metadata={'source': './documents/Computer Systems A Programmer’s Perspective Third Edition by Randal E. Bryant, David R. O’Hallaron.pdf', 'page': 18}\n"
     ]
    }
   ],
   "source": [
    "pages = r_splitter.split_documents(raw_pages)\n",
    "for n in range(3):\n",
    "    print(pages[n+30])\n"
   ]
  },
  {
   "cell_type": "markdown",
   "metadata": {},
   "source": [
    "Testing out embeddings"
   ]
  },
  {
   "cell_type": "code",
   "execution_count": 8,
   "metadata": {},
   "outputs": [],
   "source": [
    "import numpy as np\n",
    "from langchain.embeddings.openai import OpenAIEmbeddings\n",
    "embedding = OpenAIEmbeddings()"
   ]
  },
  {
   "cell_type": "code",
   "execution_count": 9,
   "metadata": {},
   "outputs": [
    {
     "name": "stdout",
     "output_type": "stream",
     "text": [
      "Defaulting to user installation because normal site-packages is not writeable\n",
      "Requirement already satisfied: tiktoken in /home/shashsinha/.local/lib/python3.10/site-packages (0.4.0)\n",
      "Requirement already satisfied: requests>=2.26.0 in /home/shashsinha/.local/lib/python3.10/site-packages (from tiktoken) (2.31.0)\n",
      "Requirement already satisfied: regex>=2022.1.18 in /home/shashsinha/.local/lib/python3.10/site-packages (from tiktoken) (2023.8.8)\n",
      "Requirement already satisfied: charset-normalizer<4,>=2 in /home/shashsinha/.local/lib/python3.10/site-packages (from requests>=2.26.0->tiktoken) (3.1.0)\n",
      "Requirement already satisfied: certifi>=2017.4.17 in /usr/lib/python3/dist-packages (from requests>=2.26.0->tiktoken) (2020.6.20)\n",
      "Requirement already satisfied: urllib3<3,>=1.21.1 in /usr/lib/python3/dist-packages (from requests>=2.26.0->tiktoken) (1.26.5)\n",
      "Requirement already satisfied: idna<4,>=2.5 in /usr/lib/python3/dist-packages (from requests>=2.26.0->tiktoken) (3.3)\n",
      "Note: you may need to restart the kernel to use updated packages.\n"
     ]
    }
   ],
   "source": [
    "%pip install tiktoken"
   ]
  },
  {
   "cell_type": "code",
   "execution_count": 10,
   "metadata": {},
   "outputs": [],
   "source": [
    "import tiktoken"
   ]
  },
  {
   "cell_type": "code",
   "execution_count": 11,
   "metadata": {},
   "outputs": [],
   "source": [
    "sentence1 = \"My name is Saransh Sinha, I am a software engineer\"\n",
    "sentence2 = \"My name is Shashwat Sinha, I am a student\"\n",
    "sentence3 = \"the weather is ugly outside\""
   ]
  },
  {
   "cell_type": "code",
   "execution_count": 12,
   "metadata": {},
   "outputs": [],
   "source": [
    "embedding1 = embedding.embed_query(sentence1)\n",
    "embedding2 = embedding.embed_query(sentence2)\n",
    "embedding3 = embedding.embed_query(sentence3)"
   ]
  },
  {
   "cell_type": "code",
   "execution_count": 13,
   "metadata": {},
   "outputs": [
    {
     "data": {
      "text/plain": [
       "0.9169101714100671"
      ]
     },
     "execution_count": 13,
     "metadata": {},
     "output_type": "execute_result"
    }
   ],
   "source": [
    "np.dot(embedding1, embedding2)"
   ]
  },
  {
   "cell_type": "code",
   "execution_count": 14,
   "metadata": {},
   "outputs": [
    {
     "data": {
      "text/plain": [
       "0.722529012713944"
      ]
     },
     "execution_count": 14,
     "metadata": {},
     "output_type": "execute_result"
    }
   ],
   "source": [
    "np.dot(embedding1, embedding3)"
   ]
  },
  {
   "cell_type": "code",
   "execution_count": 15,
   "metadata": {},
   "outputs": [
    {
     "data": {
      "text/plain": [
       "0.7193759409167937"
      ]
     },
     "execution_count": 15,
     "metadata": {},
     "output_type": "execute_result"
    }
   ],
   "source": [
    "np.dot(embedding2, embedding3)"
   ]
  },
  {
   "cell_type": "markdown",
   "metadata": {},
   "source": [
    "Now we will convert pdfs to embeddings and store them in a vectorstore"
   ]
  },
  {
   "cell_type": "code",
   "execution_count": null,
   "metadata": {},
   "outputs": [],
   "source": [
    "%pip install chromadb"
   ]
  },
  {
   "cell_type": "code",
   "execution_count": 17,
   "metadata": {},
   "outputs": [],
   "source": [
    "from langchain.vectorstores import Chroma"
   ]
  },
  {
   "cell_type": "code",
   "execution_count": 18,
   "metadata": {},
   "outputs": [],
   "source": [
    "persist_directory = 'docs/chroma/'"
   ]
  },
  {
   "cell_type": "code",
   "execution_count": 19,
   "metadata": {},
   "outputs": [],
   "source": [
    "!rm -rf ./docs/chroma  # remove old database files if any"
   ]
  },
  {
   "cell_type": "code",
   "execution_count": 20,
   "metadata": {},
   "outputs": [],
   "source": [
    "vectordb = Chroma.from_documents(\n",
    "    documents=pages,\n",
    "    embedding=embedding,\n",
    "    persist_directory=persist_directory\n",
    ")"
   ]
  },
  {
   "cell_type": "code",
   "execution_count": 30,
   "metadata": {},
   "outputs": [
    {
     "data": {
      "text/plain": [
       "3197"
      ]
     },
     "execution_count": 30,
     "metadata": {},
     "output_type": "execute_result"
    }
   ],
   "source": [
    "# pages = r_splitter.split_documents(raw_pages) is splits = text_splitter.split_documents(docs) from dlai\n",
    "len(pages)"
   ]
  },
  {
   "cell_type": "code",
   "execution_count": 41,
   "metadata": {},
   "outputs": [],
   "source": [
    "question = \"strong versus weak definition\""
   ]
  },
  {
   "cell_type": "code",
   "execution_count": 42,
   "metadata": {},
   "outputs": [],
   "source": [
    "docs = vectordb.similarity_search(question,k=3)"
   ]
  },
  {
   "cell_type": "code",
   "execution_count": 37,
   "metadata": {},
   "outputs": [
    {
     "data": {
      "text/plain": [
       "3"
      ]
     },
     "execution_count": 37,
     "metadata": {},
     "output_type": "execute_result"
    }
   ],
   "source": [
    "len(docs)"
   ]
  },
  {
   "cell_type": "code",
   "execution_count": 45,
   "metadata": {},
   "outputs": [
    {
     "name": "stdout",
     "output_type": "stream",
     "text": [
      "page_content='1056 Chapter 12 Concurrent Programming\\nWeak scaling is often a truer measure than strong scaling because it more\\naccurately reﬂects our desire to use bigger machines to do more work. This is\\nparticularly true for scientiﬁc codes, where the problem size can be easily increasedand where bigger problem sizes translate directly to better predictions of nature.However, there exist applications whose sizes are not so easily increased, and forthese applications strong scaling is more appropriate. For example, the amount ofwork performed by real-time signal-processing applications is often determinedby the properties of the physical sensors that are generating the signals. Changingthe total amount of work requires using different physical sensors, which might notbe feasible or necessary. For these applications, we typically want to use parallelismto accomplish a ﬁxed amount of work as quickly as possible.\\nPractice Problem 12.11 (solution page 1074)' metadata={'page': 1056, 'source': './documents/Computer Systems A Programmer’s Perspective Third Edition by Randal E. Bryant, David R. O’Hallaron.pdf'}\n",
      "\n",
      "page_content='of a parallel program is typically deﬁned as\\nS\\np=T1\\nTp\\nwhere pis the number of processor cores and Tkis the running time on kcores. This\\nformulation is sometimes referred to as strong scaling . When T1is the execution' metadata={'page': 1054, 'source': './documents/Computer Systems A Programmer’s Perspective Third Edition by Randal E. Bryant, David R. O’Hallaron.pdf'}\n",
      "\n",
      "page_content='There is another view of speedup, known as weak scaling , which increases\\nthe problem size along with the number of processors, such that the amount ofwork performed on each processor is held constant as the number of processorsincreases. With this formulation, speedup and efﬁciency are expressed in termsof the total amount of work accomplished per unit time. For example, if we candouble the number of processors and do twice the amount of work per hour, thenwe are enjoying linear speedup and 100 percent efﬁciency.' metadata={'page': 1055, 'source': './documents/Computer Systems A Programmer’s Perspective Third Edition by Randal E. Bryant, David R. O’Hallaron.pdf'}\n",
      "\n"
     ]
    }
   ],
   "source": [
    "for i in docs:\n",
    "    print(i)\n",
    "    print()\n",
    "# docs[0].page_content"
   ]
  },
  {
   "cell_type": "code",
   "execution_count": 44,
   "metadata": {},
   "outputs": [],
   "source": [
    "vectordb.persist()"
   ]
  },
  {
   "cell_type": "code",
   "execution_count": 46,
   "metadata": {},
   "outputs": [
    {
     "name": "stdout",
     "output_type": "stream",
     "text": [
      "3197\n"
     ]
    }
   ],
   "source": [
    "print(vectordb._collection.count())"
   ]
  },
  {
   "cell_type": "code",
   "execution_count": 47,
   "metadata": {},
   "outputs": [
    {
     "data": {
      "text/plain": [
       "<langchain.vectorstores.chroma.Chroma at 0x7f7ed93472e0>"
      ]
     },
     "execution_count": 47,
     "metadata": {},
     "output_type": "execute_result"
    }
   ],
   "source": [
    "vectordb"
   ]
  },
  {
   "cell_type": "code",
   "execution_count": null,
   "metadata": {},
   "outputs": [],
   "source": []
  }
 ],
 "metadata": {
  "kernelspec": {
   "display_name": "Python 3",
   "language": "python",
   "name": "python3"
  },
  "language_info": {
   "codemirror_mode": {
    "name": "ipython",
    "version": 3
   },
   "file_extension": ".py",
   "mimetype": "text/x-python",
   "name": "python",
   "nbconvert_exporter": "python",
   "pygments_lexer": "ipython3",
   "version": "3.10.6"
  },
  "orig_nbformat": 4
 },
 "nbformat": 4,
 "nbformat_minor": 2
}
